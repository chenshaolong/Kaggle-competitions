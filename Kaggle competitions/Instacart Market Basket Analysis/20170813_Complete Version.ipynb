{
 "cells": [
  {
   "cell_type": "code",
   "execution_count": 12,
   "metadata": {
    "collapsed": false
   },
   "outputs": [
    {
     "name": "stdout",
     "output_type": "stream",
     "text": [
      "aisles.csv\n",
      "departments.csv\n",
      "order_products__prior.csv\n",
      "order_products__train.csv\n",
      "orders.csv\n",
      "prediction_lgbm.pkl\n",
      "products.csv\n",
      "sample_submission.csv\n",
      "\n"
     ]
    }
   ],
   "source": [
    "import pandas as pd\n",
    "import numpy as np\n",
    "import xgboost as xgb\n",
    "import matplotlib.pyplot as plt\n",
    "import gc\n",
    "from sklearn.model_selection import train_test_split\n",
    "import tensorflow\n",
    "import gensim\n",
    "import numpy as np\n",
    "%matplotlib inline\n",
    "from subprocess import check_output\n",
    "print(check_output([\"ls\", \"input/\"]).decode(\"utf8\"))"
   ]
  },
  {
   "cell_type": "code",
   "execution_count": 4,
   "metadata": {
    "collapsed": true
   },
   "outputs": [],
   "source": [
    "pd.set_option('display.max_columns',60)"
   ]
  },
  {
   "cell_type": "code",
   "execution_count": 15,
   "metadata": {
    "collapsed": false
   },
   "outputs": [],
   "source": [
    "path = '/Users/shaolongchen/Data Science/Kaggle/Instacart/input/'"
   ]
  },
  {
   "cell_type": "code",
   "execution_count": 16,
   "metadata": {
    "collapsed": false
   },
   "outputs": [],
   "source": [
    "aisles = pd.read_csv(path+\"aisles.csv\")\n",
    "products = pd.read_csv(path+\"products.csv\")\n",
    "departments = pd.read_csv(path+\"departments.csv\")\n",
    "#orders = pd.read_csv(path+\"orders_membership.csv\",index_col=0)\n",
    "orders = pd.read_csv(path+\"orders.csv\")\n",
    "dtrain = pd.read_csv(path+\"order_products__train.csv\")\n",
    "dprior = pd.read_csv(path+\"order_products__prior.csv\")#, nrows=1000000)\n",
    "sample_submission = pd.read_csv(path + \"sample_submission.csv\")"
   ]
  },
  {
   "cell_type": "code",
   "execution_count": 17,
   "metadata": {
    "collapsed": false
   },
   "outputs": [
    {
     "name": "stdout",
     "output_type": "stream",
     "text": [
      "ailes = (       134,  2)\tIndex([u'aisle_id', u'aisle'], dtype='object')\n",
      "\n",
      "products = (     49688,  4)\tIndex([u'product_id', u'product_name', u'aisle_id', u'department_id'], dtype='object')\n",
      "\n",
      "departments = (        21,  2)\tIndex([u'department_id', u'department'], dtype='object')\n",
      "\n",
      "orders =  (3421083, 7) \t\tIndex([u'order_id', u'user_id', u'eval_set', u'order_number', u'order_dow',\n",
      "       u'order_hour_of_day', u'days_since_prior_order'],\n",
      "      dtype='object')\n",
      "\n",
      "dtrain =  (1384617, 4) \t\tIndex([u'order_id', u'product_id', u'add_to_cart_order', u'reordered'], dtype='object')\n",
      "\n",
      "dprior (32434489, 4) \t\tIndex([u'order_id', u'product_id', u'add_to_cart_order', u'reordered'], dtype='object')\n"
     ]
    }
   ],
   "source": [
    "print \"ailes = (%10d,%3d)\\t\"%aisles.shape, aisles.columns\n",
    "print \"\\nproducts = (%10d,%3d)\\t\"%products.shape, products.columns\n",
    "print \"\\ndepartments = (%10d,%3d)\\t\"%departments.shape,departments.columns\n",
    "print \"\\norders = \",orders.shape, \"\\t\\t\", orders.columns\n",
    "print \"\\ndtrain = \",dtrain.shape, \"\\t\\t\", dtrain.columns\n",
    "print \"\\ndprior\",dprior.shape, \"\\t\\t\", dprior.columns"
   ]
  },
  {
   "cell_type": "code",
   "execution_count": 18,
   "metadata": {
    "collapsed": false
   },
   "outputs": [
    {
     "data": {
      "text/plain": [
       "'%%time\\n#calculate the membership days for each order\\n\\norders.days_since_prior_order = orders.days_since_prior_order.fillna(0).astype(int)\\norders[\"_user_current_membership_days\"] = [0]*(orders.shape[0])\\n\\nuserid_temp = 0\\nk=0\\nfor orders_index in orders.index:\\n    if orders.user_id[orders_index] == userid_temp:\\n        orders.loc[orders_index,\"_user_current_membership_days\"] = orders.loc[orders_index-1,\"_user_current_membership_days\"] + orders.loc[orders_index,\"days_since_prior_order\"]\\n    else:\\n        userid_temp = orders.loc[orders_index,\"user_id\"]\\n#    k = k+1\\n#    if k==1000: break\\norders.to_csv(\"orders_temp1.csv\")\\n'"
      ]
     },
     "execution_count": 18,
     "metadata": {},
     "output_type": "execute_result"
    }
   ],
   "source": [
    "'''%%time\n",
    "#calculate the membership days for each order\n",
    "\n",
    "orders.days_since_prior_order = orders.days_since_prior_order.fillna(0).astype(int)\n",
    "orders[\"_user_current_membership_days\"] = [0]*(orders.shape[0])\n",
    "\n",
    "userid_temp = 0\n",
    "k=0\n",
    "for orders_index in orders.index:\n",
    "    if orders.user_id[orders_index] == userid_temp:\n",
    "        orders.loc[orders_index,\"_user_current_membership_days\"] = orders.loc[orders_index-1,\"_user_current_membership_days\"] + orders.loc[orders_index,\"days_since_prior_order\"]\n",
    "    else:\n",
    "        userid_temp = orders.loc[orders_index,\"user_id\"]\n",
    "#    k = k+1\n",
    "#    if k==1000: break\n",
    "orders.to_csv(\"orders_temp1.csv\")\n",
    "'''"
   ]
  },
  {
   "cell_type": "code",
   "execution_count": null,
   "metadata": {
    "collapsed": true
   },
   "outputs": [],
   "source": []
  },
  {
   "cell_type": "code",
   "execution_count": 19,
   "metadata": {
    "collapsed": false
   },
   "outputs": [
    {
     "data": {
      "text/html": [
       "<div>\n",
       "<style>\n",
       "    .dataframe thead tr:only-child th {\n",
       "        text-align: right;\n",
       "    }\n",
       "\n",
       "    .dataframe thead th {\n",
       "        text-align: left;\n",
       "    }\n",
       "\n",
       "    .dataframe tbody tr th {\n",
       "        vertical-align: top;\n",
       "    }\n",
       "</style>\n",
       "<table border=\"1\" class=\"dataframe\">\n",
       "  <thead>\n",
       "    <tr style=\"text-align: right;\">\n",
       "      <th></th>\n",
       "      <th>order_id</th>\n",
       "      <th>user_id</th>\n",
       "      <th>eval_set</th>\n",
       "      <th>order_number</th>\n",
       "      <th>order_dow</th>\n",
       "      <th>order_hour_of_day</th>\n",
       "      <th>days_since_prior_order</th>\n",
       "    </tr>\n",
       "  </thead>\n",
       "  <tbody>\n",
       "    <tr>\n",
       "      <th>0</th>\n",
       "      <td>2539329</td>\n",
       "      <td>1</td>\n",
       "      <td>prior</td>\n",
       "      <td>1</td>\n",
       "      <td>2</td>\n",
       "      <td>8</td>\n",
       "      <td>NaN</td>\n",
       "    </tr>\n",
       "    <tr>\n",
       "      <th>1</th>\n",
       "      <td>2398795</td>\n",
       "      <td>1</td>\n",
       "      <td>prior</td>\n",
       "      <td>2</td>\n",
       "      <td>3</td>\n",
       "      <td>7</td>\n",
       "      <td>15.0</td>\n",
       "    </tr>\n",
       "    <tr>\n",
       "      <th>2</th>\n",
       "      <td>473747</td>\n",
       "      <td>1</td>\n",
       "      <td>prior</td>\n",
       "      <td>3</td>\n",
       "      <td>3</td>\n",
       "      <td>12</td>\n",
       "      <td>21.0</td>\n",
       "    </tr>\n",
       "    <tr>\n",
       "      <th>3</th>\n",
       "      <td>2254736</td>\n",
       "      <td>1</td>\n",
       "      <td>prior</td>\n",
       "      <td>4</td>\n",
       "      <td>4</td>\n",
       "      <td>7</td>\n",
       "      <td>29.0</td>\n",
       "    </tr>\n",
       "    <tr>\n",
       "      <th>4</th>\n",
       "      <td>431534</td>\n",
       "      <td>1</td>\n",
       "      <td>prior</td>\n",
       "      <td>5</td>\n",
       "      <td>4</td>\n",
       "      <td>15</td>\n",
       "      <td>28.0</td>\n",
       "    </tr>\n",
       "  </tbody>\n",
       "</table>\n",
       "</div>"
      ],
      "text/plain": [
       "   order_id  user_id eval_set  order_number  order_dow  order_hour_of_day  \\\n",
       "0   2539329        1    prior             1          2                  8   \n",
       "1   2398795        1    prior             2          3                  7   \n",
       "2    473747        1    prior             3          3                 12   \n",
       "3   2254736        1    prior             4          4                  7   \n",
       "4    431534        1    prior             5          4                 15   \n",
       "\n",
       "   days_since_prior_order  \n",
       "0                     NaN  \n",
       "1                    15.0  \n",
       "2                    21.0  \n",
       "3                    29.0  \n",
       "4                    28.0  "
      ]
     },
     "execution_count": 19,
     "metadata": {},
     "output_type": "execute_result"
    }
   ],
   "source": [
    "orders.head(5)"
   ]
  },
  {
   "cell_type": "code",
   "execution_count": 20,
   "metadata": {
    "collapsed": false
   },
   "outputs": [],
   "source": [
    "prior_details = dprior.merge(orders[orders.eval_set == \"prior\"],how=\"left\",on=\"order_id\")"
   ]
  },
  {
   "cell_type": "code",
   "execution_count": 21,
   "metadata": {
    "collapsed": false
   },
   "outputs": [
    {
     "data": {
      "text/html": [
       "<div>\n",
       "<style>\n",
       "    .dataframe thead tr:only-child th {\n",
       "        text-align: right;\n",
       "    }\n",
       "\n",
       "    .dataframe thead th {\n",
       "        text-align: left;\n",
       "    }\n",
       "\n",
       "    .dataframe tbody tr th {\n",
       "        vertical-align: top;\n",
       "    }\n",
       "</style>\n",
       "<table border=\"1\" class=\"dataframe\">\n",
       "  <thead>\n",
       "    <tr style=\"text-align: right;\">\n",
       "      <th></th>\n",
       "      <th>order_id</th>\n",
       "      <th>product_id</th>\n",
       "      <th>add_to_cart_order</th>\n",
       "      <th>reordered</th>\n",
       "      <th>user_id</th>\n",
       "      <th>eval_set</th>\n",
       "      <th>order_number</th>\n",
       "      <th>order_dow</th>\n",
       "      <th>order_hour_of_day</th>\n",
       "      <th>days_since_prior_order</th>\n",
       "    </tr>\n",
       "  </thead>\n",
       "  <tbody>\n",
       "    <tr>\n",
       "      <th>0</th>\n",
       "      <td>2</td>\n",
       "      <td>33120</td>\n",
       "      <td>1</td>\n",
       "      <td>1</td>\n",
       "      <td>202279</td>\n",
       "      <td>prior</td>\n",
       "      <td>3</td>\n",
       "      <td>5</td>\n",
       "      <td>9</td>\n",
       "      <td>8.0</td>\n",
       "    </tr>\n",
       "    <tr>\n",
       "      <th>1</th>\n",
       "      <td>2</td>\n",
       "      <td>28985</td>\n",
       "      <td>2</td>\n",
       "      <td>1</td>\n",
       "      <td>202279</td>\n",
       "      <td>prior</td>\n",
       "      <td>3</td>\n",
       "      <td>5</td>\n",
       "      <td>9</td>\n",
       "      <td>8.0</td>\n",
       "    </tr>\n",
       "  </tbody>\n",
       "</table>\n",
       "</div>"
      ],
      "text/plain": [
       "   order_id  product_id  add_to_cart_order  reordered  user_id eval_set  \\\n",
       "0         2       33120                  1          1   202279    prior   \n",
       "1         2       28985                  2          1   202279    prior   \n",
       "\n",
       "   order_number  order_dow  order_hour_of_day  days_since_prior_order  \n",
       "0             3          5                  9                     8.0  \n",
       "1             3          5                  9                     8.0  "
      ]
     },
     "execution_count": 21,
     "metadata": {},
     "output_type": "execute_result"
    }
   ],
   "source": [
    "prior_details.head(2)"
   ]
  },
  {
   "cell_type": "code",
   "execution_count": 22,
   "metadata": {
    "collapsed": true
   },
   "outputs": [],
   "source": [
    "def add_groupby_features(df, group_cols, agg_dict):\n",
    "#    print \"grouping in process...\"\n",
    "    grouped = df.groupby(group_cols).agg(agg_dict)\n",
    "    grouped.columns = grouped.columns.droplevel(0)\n",
    "    grouped.reset_index(inplace=True)\n",
    "#    print \"group done.\"\n",
    "    return grouped"
   ]
  },
  {
   "cell_type": "code",
   "execution_count": 23,
   "metadata": {
    "collapsed": true
   },
   "outputs": [],
   "source": [
    "def ka_add_groupby_features_n_vs_1(df, group_columns_list, target_columns_list, methods_list):\n",
    "        grouped_name = ''.join(group_columns_list)\n",
    "        target_name = ''.join(target_columns_list)\n",
    "        combine_name = [[grouped_name] + [method_name] + [target_name] for method_name in methods_list]\n",
    "\n",
    "        grouped = df.groupby(group_columns_list)\n",
    "\n",
    "        the_stats = grouped[target_name].agg(methods_list).reset_index()\n",
    "        the_stats.columns = [grouped_name] + \\\n",
    "                            ['_%s_%s_by_%s' % (grouped_name, method_name, target_name) \\\n",
    "                             for (grouped_name, method_name, target_name) in combine_name]\n",
    "        return the_stats"
   ]
  },
  {
   "cell_type": "markdown",
   "metadata": {},
   "source": [
    "# Create Product Features"
   ]
  },
  {
   "cell_type": "code",
   "execution_count": 24,
   "metadata": {
    "collapsed": false
   },
   "outputs": [
    {
     "name": "stderr",
     "output_type": "stream",
     "text": [
      "/Users/shaolongchen/anaconda/lib/python2.7/site-packages/pandas/core/groupby.py:4036: FutureWarning: using a dict with renaming is deprecated and will be removed in a future version\n",
      "  return super(DataFrameGroupBy, self).aggregate(arg, *args, **kwargs)\n"
     ]
    }
   ],
   "source": [
    "#####?????? check \"sum\" for nan values\n",
    "#Which times does the user buy the product in an order?\n",
    "prior_details[\"_userprod_nth_time\"] = prior_details.groupby([\"user_id\",\"product_id\"]).cumcount() + 1\n",
    "agg_dict1 = {\"user_id\":{\"_prod_total_purchase_cnts\":\"count\"},\n",
    "         \"reordered\":{\"_prod_reordered_total_cnts\":\"sum\"},\n",
    "        \"_userprod_nth_time\":{\"_prod_first_purchase_total_cnts\":lambda x: sum(x==1),\n",
    "                                  \"_prod_second_purchase_total_cnts\":lambda x: sum(x==2)}}\n",
    "#                                  \"_prod_multiple_purchase_total_cnts\":lambda x: sum(x>1)}}\n",
    "product_features = add_groupby_features(prior_details,[\"product_id\"],agg_dict1)"
   ]
  },
  {
   "cell_type": "code",
   "execution_count": 25,
   "metadata": {
    "collapsed": false
   },
   "outputs": [
    {
     "data": {
      "text/html": [
       "<div>\n",
       "<style>\n",
       "    .dataframe thead tr:only-child th {\n",
       "        text-align: right;\n",
       "    }\n",
       "\n",
       "    .dataframe thead th {\n",
       "        text-align: left;\n",
       "    }\n",
       "\n",
       "    .dataframe tbody tr th {\n",
       "        vertical-align: top;\n",
       "    }\n",
       "</style>\n",
       "<table border=\"1\" class=\"dataframe\">\n",
       "  <thead>\n",
       "    <tr style=\"text-align: right;\">\n",
       "      <th></th>\n",
       "      <th>order_id</th>\n",
       "      <th>product_id</th>\n",
       "      <th>add_to_cart_order</th>\n",
       "      <th>reordered</th>\n",
       "      <th>user_id</th>\n",
       "      <th>eval_set</th>\n",
       "      <th>order_number</th>\n",
       "      <th>order_dow</th>\n",
       "      <th>order_hour_of_day</th>\n",
       "      <th>days_since_prior_order</th>\n",
       "      <th>_userprod_nth_time</th>\n",
       "    </tr>\n",
       "  </thead>\n",
       "  <tbody>\n",
       "    <tr>\n",
       "      <th>0</th>\n",
       "      <td>2</td>\n",
       "      <td>33120</td>\n",
       "      <td>1</td>\n",
       "      <td>1</td>\n",
       "      <td>202279</td>\n",
       "      <td>prior</td>\n",
       "      <td>3</td>\n",
       "      <td>5</td>\n",
       "      <td>9</td>\n",
       "      <td>8.0</td>\n",
       "      <td>1</td>\n",
       "    </tr>\n",
       "    <tr>\n",
       "      <th>1</th>\n",
       "      <td>2</td>\n",
       "      <td>28985</td>\n",
       "      <td>2</td>\n",
       "      <td>1</td>\n",
       "      <td>202279</td>\n",
       "      <td>prior</td>\n",
       "      <td>3</td>\n",
       "      <td>5</td>\n",
       "      <td>9</td>\n",
       "      <td>8.0</td>\n",
       "      <td>1</td>\n",
       "    </tr>\n",
       "  </tbody>\n",
       "</table>\n",
       "</div>"
      ],
      "text/plain": [
       "   order_id  product_id  add_to_cart_order  reordered  user_id eval_set  \\\n",
       "0         2       33120                  1          1   202279    prior   \n",
       "1         2       28985                  2          1   202279    prior   \n",
       "\n",
       "   order_number  order_dow  order_hour_of_day  days_since_prior_order  \\\n",
       "0             3          5                  9                     8.0   \n",
       "1             3          5                  9                     8.0   \n",
       "\n",
       "   _userprod_nth_time  \n",
       "0                   1  \n",
       "1                   1  "
      ]
     },
     "execution_count": 25,
     "metadata": {},
     "output_type": "execute_result"
    }
   ],
   "source": [
    "prior_details.head(2)"
   ]
  },
  {
   "cell_type": "code",
   "execution_count": 26,
   "metadata": {
    "collapsed": false
   },
   "outputs": [],
   "source": [
    "agg_dict12 = {'order_dow':{'_prod_average_dow':'mean', '_prod_frequent_dow':lambda x: x.value_counts().idxmax()}, \n",
    "            'order_hour_of_day':{'_prod_average_hour':'mean', '_prod_frequent_hour':lambda x: x.value_counts().idxmax()}} \n",
    "\n",
    "prod_temp = add_groupby_features(prior_details, ['product_id'], agg_dict12)\n",
    "product_features = product_features.merge(prod_temp,on=\"product_id\",how=\"left\")"
   ]
  },
  {
   "cell_type": "code",
   "execution_count": 27,
   "metadata": {
    "collapsed": false
   },
   "outputs": [],
   "source": [
    "agg_dict15 = {'user_id':{'_prod_distinct_users':lambda x:x.nunique()},\n",
    "             'add_to_cart_order':{'_prod_mean_cart_position':'mean'}} \n",
    "\n",
    "prod_temp = add_groupby_features(prior_details, ['product_id'], agg_dict15)\n",
    "product_features = product_features.merge(prod_temp,on=\"product_id\",how=\"left\")"
   ]
  },
  {
   "cell_type": "code",
   "execution_count": 28,
   "metadata": {
    "collapsed": false
   },
   "outputs": [
    {
     "data": {
      "text/plain": [
       "'#train Word2Vec models\\ndtrain_temp=dtrain.copy()\\ndprior_temp=dprior.copy()\\n\\ndtrain_temp[\"product_id\"] = dtrain_temp[\"product_id\"].astype(str)\\ndprior_temp[\"product_id\"] = dprior_temp[\"product_id\"].astype(str)\\ntrain_sentences = dtrain_temp.groupby(\"order_id\").apply(lambda x: x[\"product_id\"].tolist())\\nprior_sentences = dprior_temp.groupby(\"order_id\").apply(lambda x: x[\"product_id\"].tolist())\\nsentences = train_sentences.append(prior_sentences)\\nlongest = np.max(sentences.apply(len))\\nsentences = sentences.values\\nmodel = gensim.models.Word2Vec(sentences, size=100, window=longest, min_count=2, workers=7)\\n\\ndel sentences,dtrain_temp,dprior_temp,train_sentences,prior_sentences\\ngc.collect()\\n'"
      ]
     },
     "execution_count": 28,
     "metadata": {},
     "output_type": "execute_result"
    }
   ],
   "source": [
    "'''#train Word2Vec models\n",
    "dtrain_temp=dtrain.copy()\n",
    "dprior_temp=dprior.copy()\n",
    "\n",
    "dtrain_temp[\"product_id\"] = dtrain_temp[\"product_id\"].astype(str)\n",
    "dprior_temp[\"product_id\"] = dprior_temp[\"product_id\"].astype(str)\n",
    "train_sentences = dtrain_temp.groupby(\"order_id\").apply(lambda x: x[\"product_id\"].tolist())\n",
    "prior_sentences = dprior_temp.groupby(\"order_id\").apply(lambda x: x[\"product_id\"].tolist())\n",
    "sentences = train_sentences.append(prior_sentences)\n",
    "longest = np.max(sentences.apply(len))\n",
    "sentences = sentences.values\n",
    "model = gensim.models.Word2Vec(sentences, size=100, window=longest, min_count=2, workers=7)\n",
    "\n",
    "del sentences,dtrain_temp,dprior_temp,train_sentences,prior_sentences\n",
    "gc.collect()\n",
    "'''"
   ]
  },
  {
   "cell_type": "code",
   "execution_count": 29,
   "metadata": {
    "collapsed": false
   },
   "outputs": [
    {
     "ename": "IOError",
     "evalue": "[Errno 2] No such file or directory: 'product2vec.model'",
     "output_type": "error",
     "traceback": [
      "\u001b[0;31m---------------------------------------------------------------------------\u001b[0m",
      "\u001b[0;31mIOError\u001b[0m                                   Traceback (most recent call last)",
      "\u001b[0;32m<ipython-input-29-43a9a14f455b>\u001b[0m in \u001b[0;36m<module>\u001b[0;34m()\u001b[0m\n\u001b[1;32m      1\u001b[0m \u001b[0;31m#add word vectors using product_id\u001b[0m\u001b[0;34m\u001b[0m\u001b[0;34m\u001b[0m\u001b[0m\n\u001b[0;32m----> 2\u001b[0;31m \u001b[0mmodel\u001b[0m \u001b[0;34m=\u001b[0m \u001b[0mgensim\u001b[0m\u001b[0;34m.\u001b[0m\u001b[0mmodels\u001b[0m\u001b[0;34m.\u001b[0m\u001b[0mWord2Vec\u001b[0m\u001b[0;34m.\u001b[0m\u001b[0mload\u001b[0m\u001b[0;34m(\u001b[0m\u001b[0;34m\"product2vec.model\"\u001b[0m\u001b[0;34m)\u001b[0m \u001b[0;31m#load already trained model\u001b[0m\u001b[0;34m\u001b[0m\u001b[0m\n\u001b[0m\u001b[1;32m      3\u001b[0m \u001b[0mvocab\u001b[0m \u001b[0;34m=\u001b[0m \u001b[0mlist\u001b[0m\u001b[0;34m(\u001b[0m\u001b[0mmodel\u001b[0m\u001b[0;34m.\u001b[0m\u001b[0mwv\u001b[0m\u001b[0;34m.\u001b[0m\u001b[0mvocab\u001b[0m\u001b[0;34m.\u001b[0m\u001b[0mkeys\u001b[0m\u001b[0;34m(\u001b[0m\u001b[0;34m)\u001b[0m\u001b[0;34m)\u001b[0m\u001b[0;34m\u001b[0m\u001b[0m\n\u001b[1;32m      4\u001b[0m \u001b[0mword_vectors\u001b[0m \u001b[0;34m=\u001b[0m \u001b[0mmodel\u001b[0m\u001b[0;34m.\u001b[0m\u001b[0mwv\u001b[0m\u001b[0;34m.\u001b[0m\u001b[0msyn0\u001b[0m\u001b[0;34m\u001b[0m\u001b[0m\n\u001b[1;32m      5\u001b[0m \u001b[0mwv_sum\u001b[0m \u001b[0;34m=\u001b[0m \u001b[0mnp\u001b[0m\u001b[0;34m.\u001b[0m\u001b[0msum\u001b[0m\u001b[0;34m(\u001b[0m\u001b[0mword_vectors\u001b[0m\u001b[0;34m,\u001b[0m \u001b[0maxis\u001b[0m\u001b[0;34m=\u001b[0m\u001b[0;36m1\u001b[0m\u001b[0;34m)\u001b[0m\u001b[0;34m\u001b[0m\u001b[0m\n",
      "\u001b[0;32m/Users/shaolongchen/anaconda/lib/python2.7/site-packages/gensim/models/word2vec.pyc\u001b[0m in \u001b[0;36mload\u001b[0;34m(cls, *args, **kwargs)\u001b[0m\n\u001b[1;32m   1410\u001b[0m     \u001b[0;34m@\u001b[0m\u001b[0mclassmethod\u001b[0m\u001b[0;34m\u001b[0m\u001b[0m\n\u001b[1;32m   1411\u001b[0m     \u001b[0;32mdef\u001b[0m \u001b[0mload\u001b[0m\u001b[0;34m(\u001b[0m\u001b[0mcls\u001b[0m\u001b[0;34m,\u001b[0m \u001b[0;34m*\u001b[0m\u001b[0margs\u001b[0m\u001b[0;34m,\u001b[0m \u001b[0;34m**\u001b[0m\u001b[0mkwargs\u001b[0m\u001b[0;34m)\u001b[0m\u001b[0;34m:\u001b[0m\u001b[0;34m\u001b[0m\u001b[0m\n\u001b[0;32m-> 1412\u001b[0;31m         \u001b[0mmodel\u001b[0m \u001b[0;34m=\u001b[0m \u001b[0msuper\u001b[0m\u001b[0;34m(\u001b[0m\u001b[0mWord2Vec\u001b[0m\u001b[0;34m,\u001b[0m \u001b[0mcls\u001b[0m\u001b[0;34m)\u001b[0m\u001b[0;34m.\u001b[0m\u001b[0mload\u001b[0m\u001b[0;34m(\u001b[0m\u001b[0;34m*\u001b[0m\u001b[0margs\u001b[0m\u001b[0;34m,\u001b[0m \u001b[0;34m**\u001b[0m\u001b[0mkwargs\u001b[0m\u001b[0;34m)\u001b[0m\u001b[0;34m\u001b[0m\u001b[0m\n\u001b[0m\u001b[1;32m   1413\u001b[0m         \u001b[0;31m# update older models\u001b[0m\u001b[0;34m\u001b[0m\u001b[0;34m\u001b[0m\u001b[0m\n\u001b[1;32m   1414\u001b[0m         \u001b[0;32mif\u001b[0m \u001b[0mhasattr\u001b[0m\u001b[0;34m(\u001b[0m\u001b[0mmodel\u001b[0m\u001b[0;34m,\u001b[0m \u001b[0;34m'table'\u001b[0m\u001b[0;34m)\u001b[0m\u001b[0;34m:\u001b[0m\u001b[0;34m\u001b[0m\u001b[0m\n",
      "\u001b[0;32m/Users/shaolongchen/anaconda/lib/python2.7/site-packages/gensim/utils.pyc\u001b[0m in \u001b[0;36mload\u001b[0;34m(cls, fname, mmap)\u001b[0m\n\u001b[1;32m    274\u001b[0m         \u001b[0mcompress\u001b[0m\u001b[0;34m,\u001b[0m \u001b[0msubname\u001b[0m \u001b[0;34m=\u001b[0m \u001b[0mSaveLoad\u001b[0m\u001b[0;34m.\u001b[0m\u001b[0m_adapt_by_suffix\u001b[0m\u001b[0;34m(\u001b[0m\u001b[0mfname\u001b[0m\u001b[0;34m)\u001b[0m\u001b[0;34m\u001b[0m\u001b[0m\n\u001b[1;32m    275\u001b[0m \u001b[0;34m\u001b[0m\u001b[0m\n\u001b[0;32m--> 276\u001b[0;31m         \u001b[0mobj\u001b[0m \u001b[0;34m=\u001b[0m \u001b[0munpickle\u001b[0m\u001b[0;34m(\u001b[0m\u001b[0mfname\u001b[0m\u001b[0;34m)\u001b[0m\u001b[0;34m\u001b[0m\u001b[0m\n\u001b[0m\u001b[1;32m    277\u001b[0m         \u001b[0mobj\u001b[0m\u001b[0;34m.\u001b[0m\u001b[0m_load_specials\u001b[0m\u001b[0;34m(\u001b[0m\u001b[0mfname\u001b[0m\u001b[0;34m,\u001b[0m \u001b[0mmmap\u001b[0m\u001b[0;34m,\u001b[0m \u001b[0mcompress\u001b[0m\u001b[0;34m,\u001b[0m \u001b[0msubname\u001b[0m\u001b[0;34m)\u001b[0m\u001b[0;34m\u001b[0m\u001b[0m\n\u001b[1;32m    278\u001b[0m         \u001b[0mlogger\u001b[0m\u001b[0;34m.\u001b[0m\u001b[0minfo\u001b[0m\u001b[0;34m(\u001b[0m\u001b[0;34m\"loaded %s\"\u001b[0m\u001b[0;34m,\u001b[0m \u001b[0mfname\u001b[0m\u001b[0;34m)\u001b[0m\u001b[0;34m\u001b[0m\u001b[0m\n",
      "\u001b[0;32m/Users/shaolongchen/anaconda/lib/python2.7/site-packages/gensim/utils.pyc\u001b[0m in \u001b[0;36munpickle\u001b[0;34m(fname)\u001b[0m\n\u001b[1;32m    933\u001b[0m \u001b[0;32mdef\u001b[0m \u001b[0munpickle\u001b[0m\u001b[0;34m(\u001b[0m\u001b[0mfname\u001b[0m\u001b[0;34m)\u001b[0m\u001b[0;34m:\u001b[0m\u001b[0;34m\u001b[0m\u001b[0m\n\u001b[1;32m    934\u001b[0m     \u001b[0;34m\"\"\"Load pickled object from `fname`\"\"\"\u001b[0m\u001b[0;34m\u001b[0m\u001b[0m\n\u001b[0;32m--> 935\u001b[0;31m     \u001b[0;32mwith\u001b[0m \u001b[0msmart_open\u001b[0m\u001b[0;34m(\u001b[0m\u001b[0mfname\u001b[0m\u001b[0;34m,\u001b[0m \u001b[0;34m'rb'\u001b[0m\u001b[0;34m)\u001b[0m \u001b[0;32mas\u001b[0m \u001b[0mf\u001b[0m\u001b[0;34m:\u001b[0m\u001b[0;34m\u001b[0m\u001b[0m\n\u001b[0m\u001b[1;32m    936\u001b[0m         \u001b[0;31m# Because of loading from S3 load can't be used (missing readline in smart_open)\u001b[0m\u001b[0;34m\u001b[0m\u001b[0;34m\u001b[0m\u001b[0m\n\u001b[1;32m    937\u001b[0m         \u001b[0;32mif\u001b[0m \u001b[0msys\u001b[0m\u001b[0;34m.\u001b[0m\u001b[0mversion_info\u001b[0m \u001b[0;34m>\u001b[0m \u001b[0;34m(\u001b[0m\u001b[0;36m3\u001b[0m\u001b[0;34m,\u001b[0m \u001b[0;36m0\u001b[0m\u001b[0;34m)\u001b[0m\u001b[0;34m:\u001b[0m\u001b[0;34m\u001b[0m\u001b[0m\n",
      "\u001b[0;32m/Users/shaolongchen/anaconda/lib/python2.7/site-packages/smart_open/smart_open_lib.pyc\u001b[0m in \u001b[0;36msmart_open\u001b[0;34m(uri, mode, **kw)\u001b[0m\n\u001b[1;32m    138\u001b[0m             \u001b[0;31m# local files -- both read & write supported\u001b[0m\u001b[0;34m\u001b[0m\u001b[0;34m\u001b[0m\u001b[0m\n\u001b[1;32m    139\u001b[0m             \u001b[0;31m# compression, if any, is determined by the filename extension (.gz, .bz2)\u001b[0m\u001b[0;34m\u001b[0m\u001b[0;34m\u001b[0m\u001b[0m\n\u001b[0;32m--> 140\u001b[0;31m             \u001b[0;32mreturn\u001b[0m \u001b[0mfile_smart_open\u001b[0m\u001b[0;34m(\u001b[0m\u001b[0mparsed_uri\u001b[0m\u001b[0;34m.\u001b[0m\u001b[0muri_path\u001b[0m\u001b[0;34m,\u001b[0m \u001b[0mmode\u001b[0m\u001b[0;34m)\u001b[0m\u001b[0;34m\u001b[0m\u001b[0m\n\u001b[0m\u001b[1;32m    141\u001b[0m         \u001b[0;32melif\u001b[0m \u001b[0mparsed_uri\u001b[0m\u001b[0;34m.\u001b[0m\u001b[0mscheme\u001b[0m \u001b[0;32min\u001b[0m \u001b[0;34m(\u001b[0m\u001b[0;34m\"s3\"\u001b[0m\u001b[0;34m,\u001b[0m \u001b[0;34m\"s3n\"\u001b[0m\u001b[0;34m,\u001b[0m \u001b[0;34m\"s3u\"\u001b[0m\u001b[0;34m)\u001b[0m\u001b[0;34m:\u001b[0m\u001b[0;34m\u001b[0m\u001b[0m\n\u001b[1;32m    142\u001b[0m             \u001b[0mkwargs\u001b[0m \u001b[0;34m=\u001b[0m \u001b[0;34m{\u001b[0m\u001b[0;34m}\u001b[0m\u001b[0;34m\u001b[0m\u001b[0m\n",
      "\u001b[0;32m/Users/shaolongchen/anaconda/lib/python2.7/site-packages/smart_open/smart_open_lib.pyc\u001b[0m in \u001b[0;36mfile_smart_open\u001b[0;34m(fname, mode)\u001b[0m\n\u001b[1;32m    642\u001b[0m \u001b[0;34m\u001b[0m\u001b[0m\n\u001b[1;32m    643\u001b[0m     \"\"\"\n\u001b[0;32m--> 644\u001b[0;31m     \u001b[0;32mreturn\u001b[0m \u001b[0mcompression_wrapper\u001b[0m\u001b[0;34m(\u001b[0m\u001b[0mopen\u001b[0m\u001b[0;34m(\u001b[0m\u001b[0mfname\u001b[0m\u001b[0;34m,\u001b[0m \u001b[0mmode\u001b[0m\u001b[0;34m)\u001b[0m\u001b[0;34m,\u001b[0m \u001b[0mfname\u001b[0m\u001b[0;34m,\u001b[0m \u001b[0mmode\u001b[0m\u001b[0;34m)\u001b[0m\u001b[0;34m\u001b[0m\u001b[0m\n\u001b[0m\u001b[1;32m    645\u001b[0m \u001b[0;34m\u001b[0m\u001b[0m\n\u001b[1;32m    646\u001b[0m \u001b[0;34m\u001b[0m\u001b[0m\n",
      "\u001b[0;31mIOError\u001b[0m: [Errno 2] No such file or directory: 'product2vec.model'"
     ]
    }
   ],
   "source": [
    "#add word vectors using product_id\n",
    "model = gensim.models.Word2Vec.load(\"product2vec.model\") #load already trained model\n",
    "vocab = list(model.wv.vocab.keys())\n",
    "word_vectors = model.wv.syn0\n",
    "wv_sum = np.sum(word_vectors, axis=1)\n",
    "df_wv = pd.DataFrame({\"product_id\":[int(x) for x in vocab], \"_prod_wv\":wv_sum})\n",
    "df_wv.head(5)"
   ]
  },
  {
   "cell_type": "code",
   "execution_count": null,
   "metadata": {
    "collapsed": true
   },
   "outputs": [],
   "source": [
    "product_features = product_features.merge(df_wv,on=\"product_id\",how=\"left\")"
   ]
  },
  {
   "cell_type": "code",
   "execution_count": null,
   "metadata": {
    "collapsed": true
   },
   "outputs": [],
   "source": [
    "prod_misc = products.merge(aisles,how=\"left\",on=\"aisle_id\").merge(departments, how=\"left\",on=\"department_id\")"
   ]
  },
  {
   "cell_type": "code",
   "execution_count": null,
   "metadata": {
    "collapsed": false
   },
   "outputs": [],
   "source": [
    "prod_misc.head(2)"
   ]
  },
  {
   "cell_type": "code",
   "execution_count": null,
   "metadata": {
    "collapsed": true
   },
   "outputs": [],
   "source": [
    "prod_misc[\"_is_organic\"] = [int(\"Organic\" in x) for x in prod_misc.product_name]\n",
    "prod_misc[\"_is_banana\"] = [int(\"banana\" in x or \"Banana\" in x) for x in products.product_name]\n",
    "prod_misc[\"_is_sweet\"] = [int(\"sweet\" in x or \"Sweet\" in x) for x in products.product_name]\n",
    "prod_misc[\"_is_fruit\"] = [int(\"fruit\" in x or \"Fruit\" in x) for x in products.product_name]\n",
    "prod_misc[\"_is_fresh\"] = [int(\"fresh\" in x or \"Fresh\" in x) for x in products.product_name]"
   ]
  },
  {
   "cell_type": "code",
   "execution_count": null,
   "metadata": {
    "collapsed": false
   },
   "outputs": [],
   "source": [
    "prod_misc.head(2)"
   ]
  },
  {
   "cell_type": "code",
   "execution_count": null,
   "metadata": {
    "collapsed": true
   },
   "outputs": [],
   "source": [
    "product_features = product_features.merge(prod_misc,on=\"product_id\",how=\"left\")"
   ]
  },
  {
   "cell_type": "code",
   "execution_count": null,
   "metadata": {
    "collapsed": false
   },
   "outputs": [],
   "source": [
    "product_features['_prod_reorder_prob'] = product_features._prod_second_purchase_total_cnts / product_features._prod_first_purchase_total_cnts\n",
    "product_features['_prod_reorder_ratio'] = product_features._prod_reordered_total_cnts / product_features._prod_total_purchase_cnts\n",
    "product_features['_prod_reorder_times'] = 1 + product_features._prod_reordered_total_cnts / product_features._prod_first_purchase_total_cnts\n",
    "# 1 - _prod_reorder_ratio = 1/_prod_reorder_times"
   ]
  },
  {
   "cell_type": "code",
   "execution_count": null,
   "metadata": {
    "collapsed": false
   },
   "outputs": [],
   "source": [
    "product_features.head(2)"
   ]
  },
  {
   "cell_type": "code",
   "execution_count": null,
   "metadata": {
    "collapsed": false
   },
   "outputs": [],
   "source": [
    "#del prod_misc,model,df_wv,prod_temp,aisles,departments,products\n",
    "gc.collect()"
   ]
  },
  {
   "cell_type": "code",
   "execution_count": null,
   "metadata": {
    "collapsed": true
   },
   "outputs": [],
   "source": [
    "product_features.to_csv(\"product_features.csv\",index=False)"
   ]
  },
  {
   "cell_type": "markdown",
   "metadata": {},
   "source": [
    "# Create User Features"
   ]
  },
  {
   "cell_type": "code",
   "execution_count": null,
   "metadata": {
    "collapsed": false
   },
   "outputs": [],
   "source": [
    "agg_dict2 = {\"order_number\":{\"_user_total_orders\":\"max\"},\n",
    "            \"days_since_prior_order\":{\"_user_membership_days\":\"sum\",\"_user_mean_order_period\":\"mean\"}}\n",
    "\n",
    "user_features = add_groupby_features(orders[orders.eval_set==\"prior\"],[\"user_id\"],agg_dict2)"
   ]
  },
  {
   "cell_type": "code",
   "execution_count": null,
   "metadata": {
    "collapsed": false
   },
   "outputs": [],
   "source": [
    "agg_dict3 = {\"reordered\":{\"_user_reorder_ratio\":lambda x:sum(x)/float(len(x))}}\n",
    "user_temp = add_groupby_features(prior_details[prior_details.order_number>1],[\"user_id\"],agg_dict3)\n",
    "user_features = user_features.merge(user_temp,on=\"user_id\",how=\"left\")"
   ]
  },
  {
   "cell_type": "code",
   "execution_count": null,
   "metadata": {
    "collapsed": false
   },
   "outputs": [],
   "source": [
    "agg_dict4 = {\"product_id\":{\"_user_total_products\":'count',\n",
    "                          \"_user_distinct_products\": lambda x: x.nunique()}}\n",
    "user_temp = add_groupby_features(prior_details,[\"user_id\"],agg_dict4)\n",
    "user_features = user_features.merge(right=user_temp,on=\"user_id\",how=\"left\")"
   ]
  },
  {
   "cell_type": "code",
   "execution_count": null,
   "metadata": {
    "collapsed": false
   },
   "outputs": [],
   "source": [
    "agg_dict5 = {'product_id':{'each_order_cnts':'count'}}\n",
    "user_temp = add_groupby_features(prior_details,[\"order_id\"],agg_dict5)\n",
    "user_temp = user_temp.merge(right=orders[orders.eval_set==\"prior\"][[\"order_id\",\"user_id\"]],how=\"left\",on=\"order_id\")\n",
    "\n",
    "\n",
    "agg_dict6 = {'each_order_cnts':{'_user_mean_basket':'mean',\n",
    "                                 '_user_median_basket':'median',\n",
    "                                 '_user_min_basket':'min', \n",
    "                                 \"_user_max_basket\":'max', }}\n",
    "user_temp = add_groupby_features(user_temp,[\"user_id\"],agg_dict6)\n",
    "user_features = user_features.merge(right=user_temp,on=\"user_id\",how=\"left\")"
   ]
  },
  {
   "cell_type": "code",
   "execution_count": null,
   "metadata": {
    "collapsed": true
   },
   "outputs": [],
   "source": [
    "user_temp = orders[orders.eval_set != \"prior\"]\n",
    "user_features = user_features.merge(right=user_temp,on=\"user_id\",how=\"left\")"
   ]
  },
  {
   "cell_type": "code",
   "execution_count": null,
   "metadata": {
    "collapsed": false
   },
   "outputs": [],
   "source": [
    "agg_dict13 = {'order_dow':{'_user_average_dow':'mean', '_user_frequent_dow':lambda x: x.value_counts().idxmax()}, \n",
    "            'order_hour_of_day':{'_user_average_hour':'mean', '_user_frequent_hour':lambda x: x.value_counts().idxmax()}} \n",
    "\n",
    "user_temp= add_groupby_features(prior_details, ['user_id'], agg_dict13)\n",
    "user_features = user_features.merge(right=user_temp,on=\"user_id\",how=\"left\")"
   ]
  },
  {
   "cell_type": "code",
   "execution_count": null,
   "metadata": {
    "collapsed": false
   },
   "outputs": [],
   "source": [
    "del user_temp\n",
    "gc.collect()"
   ]
  },
  {
   "cell_type": "code",
   "execution_count": null,
   "metadata": {
    "collapsed": false
   },
   "outputs": [],
   "source": [
    "user_features.head(2)"
   ]
  },
  {
   "cell_type": "code",
   "execution_count": null,
   "metadata": {
    "collapsed": false
   },
   "outputs": [],
   "source": [
    "user_features.drop([\"order_number\"],axis=1,inplace=True)"
   ]
  },
  {
   "cell_type": "code",
   "execution_count": null,
   "metadata": {
    "collapsed": true
   },
   "outputs": [],
   "source": [
    "user_features.to_csv(\"user_features.csv\")"
   ]
  },
  {
   "cell_type": "markdown",
   "metadata": {},
   "source": [
    "# Create User_Products Features"
   ]
  },
  {
   "cell_type": "code",
   "execution_count": null,
   "metadata": {
    "collapsed": false
   },
   "outputs": [],
   "source": [
    "agg_dict7 = {'order_number':{'_userprod_order_total_cnts': 'count', \n",
    "                              '_userprod_first_order_number': 'min', \n",
    "                              '_userprod_last_order_number':'max'}, \n",
    "              'add_to_cart_order':{'_userprod_average_cart_position': 'mean'},\n",
    "            '_user_current_membership_days':{'_userprod_first_order_membership':'min',\n",
    "                                            '_userprod_last_order_membership':'max'}}\n",
    "\n",
    "userprod_features = add_groupby_features(prior_details, ['user_id', 'product_id'], agg_dict7)"
   ]
  },
  {
   "cell_type": "code",
   "execution_count": null,
   "metadata": {
    "collapsed": true
   },
   "outputs": [],
   "source": [
    "userprod_features['_userprod_total_days'] = userprod_features._userprod_last_order_membership-userprod_features._userprod_first_order_membership\n",
    "userprod_features['_userprod_average_span_days'] = 1.0*userprod_features._userprod_total_days/userprod_features._userprod_order_total_cnts"
   ]
  },
  {
   "cell_type": "code",
   "execution_count": null,
   "metadata": {
    "collapsed": false
   },
   "outputs": [],
   "source": [
    "'''\n",
    "#This function changes [a,b,c] to [a,a+b,a+b+c]\n",
    "def sum_list(x_list):\n",
    "    sum_list = []\n",
    "    sum_temp=0\n",
    "    for x in x_list:\n",
    "        sum_temp = int(np.nansum([x,sum_temp]))\n",
    "        sum_list = sum_list +[sum_temp]\n",
    "    return sum_list\n",
    "\n",
    "test_list = [2,np.nan,1,2,3,4,5,6]\n",
    "y = sum_list(test_list)\n",
    "print y\n",
    "\n",
    "agg_dict14 = {\"days_since_prior_order\":{_user_current_membership_days: lambda x:sum_list(x)}}\n",
    "temp = add_groupby_features(orders,['user_id'],agg_dict14)\n",
    "orders = orders.merge(temp,on=\"user_id\")\n",
    "orders.head()\n",
    "\n",
    "for user_id in orders.user_id.unique():\n",
    "    days_list = list(orders[orders.user_id==user_id].days_since_prior_order)\n",
    "    user_list = sum_list(days_list)\n",
    "    _user_current_membership_days = _user_current_membership_days + user_list\n",
    "df=pd.DataFrame({\"order_id\":orders.user_id, \"_user_current_membership_days\": _user_current_membership_days})\n",
    "orders = orders.merge(df,on=\"user_id\",how=\"left\")\n",
    "orders[orders.user_id==1]\n",
    "\n",
    "\n",
    "\n",
    "'''"
   ]
  },
  {
   "cell_type": "code",
   "execution_count": null,
   "metadata": {
    "collapsed": false
   },
   "outputs": [],
   "source": [
    "orders[orders.user_id==2].index"
   ]
  },
  {
   "cell_type": "code",
   "execution_count": null,
   "metadata": {
    "collapsed": false
   },
   "outputs": [],
   "source": [
    "orders.shape[0]"
   ]
  },
  {
   "cell_type": "code",
   "execution_count": null,
   "metadata": {
    "collapsed": false
   },
   "outputs": [],
   "source": [
    "orders[\"_user_current_membership_days\"]=[0]*orders.shape[0]"
   ]
  },
  {
   "cell_type": "code",
   "execution_count": null,
   "metadata": {
    "collapsed": false
   },
   "outputs": [],
   "source": [
    "orders.loc[2,\"order_hour_of_day\"]"
   ]
  },
  {
   "cell_type": "code",
   "execution_count": null,
   "metadata": {
    "collapsed": false
   },
   "outputs": [],
   "source": [
    "userprod_features.to_csv(\"userprod_features.csv\")\n",
    "userprod_features.head(2)"
   ]
  },
  {
   "cell_type": "markdown",
   "metadata": {},
   "source": [
    "# Combine Features and Create More Features"
   ]
  },
  {
   "cell_type": "code",
   "execution_count": null,
   "metadata": {
    "collapsed": true
   },
   "outputs": [],
   "source": [
    "data = userprod_features.merge(product_features, how='inner', on='product_id').merge(user_features, how='inner', on='user_id')"
   ]
  },
  {
   "cell_type": "code",
   "execution_count": null,
   "metadata": {
    "collapsed": false
   },
   "outputs": [],
   "source": [
    "data['_userprod_order_rate'] = data._userprod_order_total_cnts / data._user_total_orders\n",
    "data['_userprod_order_cnt_since_last_order'] = data._user_total_orders - data._userprod_last_order_number\n",
    "data['_userprod_order_rate_since_first_order'] = data._userprod_order_total_cnts / (data._user_total_orders - data._userprod_first_order_number + 1)\n",
    "\n",
    "data[\"_user_match_dow\"] = abs(np.array(data._user_frequent_dow) - np.array(data.order_dow))\n",
    "data[\"_user_match_hour\"] = abs(np.array(data._user_frequent_hour) - np.array(data.order_hour_of_day))\n",
    "data[\"_prod_match_hour\"] = abs(np.array(data._prod_frequent_hour) - np.array(data.order_hour_of_day))\n",
    "data[\"_prod_match_dow\"] = abs(np.array(data._prod_frequent_dow) - np.array(data.order_dow))\n",
    "\n",
    "#data['_user_traintest_membership_total_days'] = data._user_membership_days + data.days_since_prior_order\n",
    "#data['_userprod_days_since_last_order'] = data._user_traintest_membership_total_days - data._userprod_last_order_membership\n",
    "\n",
    "data['_userprod_days_since_last_order'] = data._user_current_membership_days - data._userprod_last_order_membership"
   ]
  },
  {
   "cell_type": "code",
   "execution_count": null,
   "metadata": {
    "collapsed": true
   },
   "outputs": [],
   "source": [
    "# add user_id to train set\n",
    "dtrain = dtrain.merge(right=orders[['order_id', 'user_id']], how='left', on='order_id')"
   ]
  },
  {
   "cell_type": "code",
   "execution_count": null,
   "metadata": {
    "collapsed": false
   },
   "outputs": [],
   "source": [
    "data = data.merge(dtrain[['user_id', 'product_id', 'reordered']], on=['user_id', 'product_id'], how='left')"
   ]
  },
  {
   "cell_type": "code",
   "execution_count": null,
   "metadata": {
    "collapsed": false
   },
   "outputs": [],
   "source": [
    "print data.shape\n",
    "data.head(5)"
   ]
  },
  {
   "cell_type": "code",
   "execution_count": null,
   "metadata": {
    "collapsed": false
   },
   "outputs": [],
   "source": [
    "np.nansum(data.reordered),np.nansum(dtrain.reordered) #should be equal"
   ]
  },
  {
   "cell_type": "code",
   "execution_count": null,
   "metadata": {
    "collapsed": false
   },
   "outputs": [],
   "source": [
    "#del prior_details,dtrain,dprior,orders\n",
    "gc.collect()"
   ]
  },
  {
   "cell_type": "code",
   "execution_count": null,
   "metadata": {
    "collapsed": true
   },
   "outputs": [],
   "source": [
    "#data.to_csv(\"data.csv\")"
   ]
  },
  {
   "cell_type": "markdown",
   "metadata": {},
   "source": [
    "# XGB"
   ]
  },
  {
   "cell_type": "code",
   "execution_count": null,
   "metadata": {
    "collapsed": false
   },
   "outputs": [],
   "source": [
    "X_test = data.loc[data.eval_set == \"test\",:]\n",
    "d_test = xgb.DMatrix(X_test.drop(['reordered',\"eval_set\",\"user_id\",\"product_id\",\"order_id\",\"aisle_id\",\"department_id\",\"product_name\",\"aisle\",\"department\"], axis=1))"
   ]
  },
  {
   "cell_type": "code",
   "execution_count": null,
   "metadata": {
    "collapsed": false
   },
   "outputs": [],
   "source": [
    "train = data[data.eval_set == \"train\"]\n",
    "train['reordered'] = train.reordered.fillna(0)"
   ]
  },
  {
   "cell_type": "code",
   "execution_count": null,
   "metadata": {
    "collapsed": false
   },
   "outputs": [],
   "source": [
    "#del data\n",
    "gc.collect()"
   ]
  },
  {
   "cell_type": "code",
   "execution_count": null,
   "metadata": {
    "collapsed": false
   },
   "outputs": [],
   "source": [
    "train.head(2)"
   ]
  },
  {
   "cell_type": "code",
   "execution_count": null,
   "metadata": {
    "collapsed": false
   },
   "outputs": [],
   "source": [
    "print sum(train.reordered), train.shape"
   ]
  },
  {
   "cell_type": "code",
   "execution_count": null,
   "metadata": {
    "collapsed": false
   },
   "outputs": [],
   "source": [
    "# subsample 让training时间更短\n",
    "X_train, X_val, y_train, y_val = train_test_split(train.drop(['reordered',\"eval_set\",\"user_id\",\"product_id\",\"order_id\",\"aisle_id\",\"department_id\",\"product_name\",\"aisle\",\"department\"], axis=1), train.reordered,\n",
    "                                                    test_size=0, random_state=420) #['eval_set','reordered', 'product_id','user_id', 'order_id']\n",
    "print \"splitting done\"\n",
    "#del train\n",
    "gc.collect()\n",
    "\n",
    "d_train = xgb.DMatrix(X_train, y_train)\n",
    "d_val = xgb.DMatrix(X_val,y_val)\n",
    "print \"DMatrix done\""
   ]
  },
  {
   "cell_type": "code",
   "execution_count": null,
   "metadata": {
    "collapsed": false
   },
   "outputs": [],
   "source": [
    "%%time\n",
    "\n",
    "xgb_params = {\n",
    "    \"objective\"         : \"reg:logistic\"\n",
    "    ,\"eval_metric\"      : \"logloss\"\n",
    "    ,\"eta\"              : 0.1\n",
    "    ,\"max_depth\"        : 6\n",
    "    ,\"min_child_weight\" :10\n",
    "    ,\"gamma\"            :0.70\n",
    "    ,\"subsample\"        :0.76\n",
    "    ,\"colsample_bytree\" :0.95\n",
    "    ,\"alpha\"            :2e-05\n",
    "    ,\"lambda\"           :10\n",
    "}\n",
    "\n",
    "watchlist= [(d_train, \"train\")]#,(d_val,'val')]\n",
    "bst = xgb.train(params=xgb_params, dtrain=d_train, num_boost_round=1000, early_stopping_rounds=10, evals=watchlist, verbose_eval=10)\n",
    "\n",
    "bst.save_model(\"bst23.model\")"
   ]
  },
  {
   "cell_type": "markdown",
   "metadata": {},
   "source": [
    "# Choose Threshhold p-value to Maximize F1-Score"
   ]
  },
  {
   "cell_type": "code",
   "execution_count": null,
   "metadata": {
    "collapsed": false
   },
   "outputs": [],
   "source": [
    "#Find the threshhold p to get best F1-score\n",
    "\n",
    "from sklearn.metrics import f1_score\n",
    "p_list = np.linspace(0,0.5,num=101)\n",
    "score_list = []\n",
    "for p in p_list:\n",
    "    score = f1_score(y_true=y_train, y_pred=(bst.predict(d_train) > p).astype(int))\n",
    "    score_list = score_list+[score]\n",
    "plt.plot(p_list,score_list)\n",
    "plt.show()\n",
    "print \"p value for max F1 score:\", p_list[np.argmax(score_list)]\n",
    "print \"Maximum F1 score:\", max(score_list)\n",
    "best_p = p_list[np.argmax(score_list)]"
   ]
  },
  {
   "cell_type": "code",
   "execution_count": null,
   "metadata": {
    "collapsed": false
   },
   "outputs": [],
   "source": [
    "bst.save_model(\"model_3.model\")\n",
    "bst.dump_model('model_3.txt')\n",
    "#xgb.plot_importance(bst)\n",
    "ax = xgb.plot_importance(bst)\n",
    "fig = ax.figure\n",
    "fig.set_size_inches(9, 10)"
   ]
  },
  {
   "cell_type": "code",
   "execution_count": null,
   "metadata": {
    "collapsed": false
   },
   "outputs": [],
   "source": [
    "best_p=0.21\n",
    "X_test.loc[:,'reordered'] = (bst.predict(d_test) > best_p).astype(int)\n",
    "X_test.loc[:, 'product_id'] = X_test.product_id.astype(str)#to make str joining convenient"
   ]
  },
  {
   "cell_type": "code",
   "execution_count": null,
   "metadata": {
    "collapsed": false
   },
   "outputs": [],
   "source": [
    "X_test.head(2)"
   ]
  },
  {
   "cell_type": "code",
   "execution_count": null,
   "metadata": {
    "collapsed": false
   },
   "outputs": [],
   "source": [
    "submit = ka_add_groupby_features_n_vs_1(X_test[X_test.reordered == 1], \n",
    "                                               group_columns_list=['order_id'],\n",
    "                                               target_columns_list= ['product_id'],\n",
    "                                               methods_list=[lambda x: ' '.join(list(x))])\n",
    "submit.head(2)"
   ]
  },
  {
   "cell_type": "code",
   "execution_count": null,
   "metadata": {
    "collapsed": false,
    "scrolled": true
   },
   "outputs": [],
   "source": [
    "#change column names\n",
    "submit.columns = sample_submission.columns.tolist()\n",
    "submit_final = sample_submission[['order_id']].merge(submit, how='left').fillna('None')\n",
    "submit_final.head()"
   ]
  },
  {
   "cell_type": "code",
   "execution_count": null,
   "metadata": {
    "collapsed": false
   },
   "outputs": [],
   "source": [
    "print sum(submit_final.products==\"None\"),len(submit_final.products)"
   ]
  },
  {
   "cell_type": "code",
   "execution_count": null,
   "metadata": {
    "collapsed": true
   },
   "outputs": [],
   "source": [
    "submit_final.to_csv(\"20170813_trial 1_1000trees_100%data.csv\", index=False)"
   ]
  },
  {
   "cell_type": "code",
   "execution_count": null,
   "metadata": {
    "collapsed": true
   },
   "outputs": [],
   "source": []
  }
 ],
 "metadata": {
  "kernelspec": {
   "display_name": "Python [conda root]",
   "language": "python",
   "name": "conda-root-py"
  },
  "language_info": {
   "codemirror_mode": {
    "name": "ipython",
    "version": 2
   },
   "file_extension": ".py",
   "mimetype": "text/x-python",
   "name": "python",
   "nbconvert_exporter": "python",
   "pygments_lexer": "ipython2",
   "version": "2.7.13"
  }
 },
 "nbformat": 4,
 "nbformat_minor": 2
}
