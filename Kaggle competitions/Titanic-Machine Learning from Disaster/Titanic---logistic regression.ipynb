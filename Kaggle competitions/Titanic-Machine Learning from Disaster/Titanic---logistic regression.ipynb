{
 "cells": [
  {
   "cell_type": "code",
   "execution_count": 1471,
   "metadata": {
    "collapsed": false
   },
   "outputs": [],
   "source": [
    "import numpy as np\n",
    "import pandas as pd\n",
    "import matplotlib.pyplot as plt\n",
    "from sklearn import model_selection\n",
    "import xgboost as xgb"
   ]
  },
  {
   "cell_type": "code",
   "execution_count": 1472,
   "metadata": {
    "collapsed": true
   },
   "outputs": [],
   "source": [
    "train = pd.read_csv('train.csv')\n",
    "test = pd.read_csv('test.csv')"
   ]
  },
  {
   "cell_type": "code",
   "execution_count": 1473,
   "metadata": {
    "collapsed": false
   },
   "outputs": [
    {
     "name": "stdout",
     "output_type": "stream",
     "text": [
      "(891, 12) (418, 11)\n"
     ]
    }
   ],
   "source": [
    "print train.shape, test.shape"
   ]
  },
  {
   "cell_type": "code",
   "execution_count": 1474,
   "metadata": {
    "collapsed": true
   },
   "outputs": [],
   "source": [
    "Y_train = train.Survived\n",
    "test_id = test.PassengerId"
   ]
  },
  {
   "cell_type": "code",
   "execution_count": 1475,
   "metadata": {
    "collapsed": false
   },
   "outputs": [
    {
     "name": "stdout",
     "output_type": "stream",
     "text": [
      "shape: \n",
      "(1309, 7) (891, 12) (418, 11)\n",
      "~~~~~~~~~~~~~\n",
      "type\n",
      "Age         float64\n",
      "Embarked     object\n",
      "Fare        float64\n",
      "Parch         int64\n",
      "Pclass        int64\n",
      "Sex          object\n",
      "SibSp         int64\n",
      "dtype: object\n",
      "~~~~~~~~~~~~~\n",
      "No. of Nans\n",
      "Age         263\n",
      "Embarked      2\n",
      "Fare          1\n",
      "Parch         0\n",
      "Pclass        0\n",
      "Sex           0\n",
      "SibSp         0\n",
      "dtype: int64\n",
      "~~~~~~~~~~~~~\n"
     ]
    },
    {
     "data": {
      "text/html": [
       "<div>\n",
       "<style>\n",
       "    .dataframe thead tr:only-child th {\n",
       "        text-align: right;\n",
       "    }\n",
       "\n",
       "    .dataframe thead th {\n",
       "        text-align: left;\n",
       "    }\n",
       "\n",
       "    .dataframe tbody tr th {\n",
       "        vertical-align: top;\n",
       "    }\n",
       "</style>\n",
       "<table border=\"1\" class=\"dataframe\">\n",
       "  <thead>\n",
       "    <tr style=\"text-align: right;\">\n",
       "      <th></th>\n",
       "      <th>Age</th>\n",
       "      <th>Embarked</th>\n",
       "      <th>Fare</th>\n",
       "      <th>Parch</th>\n",
       "      <th>Pclass</th>\n",
       "      <th>Sex</th>\n",
       "      <th>SibSp</th>\n",
       "    </tr>\n",
       "  </thead>\n",
       "  <tbody>\n",
       "    <tr>\n",
       "      <th>0</th>\n",
       "      <td>22.0</td>\n",
       "      <td>S</td>\n",
       "      <td>7.2500</td>\n",
       "      <td>0</td>\n",
       "      <td>3</td>\n",
       "      <td>male</td>\n",
       "      <td>1</td>\n",
       "    </tr>\n",
       "    <tr>\n",
       "      <th>1</th>\n",
       "      <td>38.0</td>\n",
       "      <td>C</td>\n",
       "      <td>71.2833</td>\n",
       "      <td>0</td>\n",
       "      <td>1</td>\n",
       "      <td>female</td>\n",
       "      <td>1</td>\n",
       "    </tr>\n",
       "  </tbody>\n",
       "</table>\n",
       "</div>"
      ],
      "text/plain": [
       "    Age Embarked     Fare  Parch  Pclass     Sex  SibSp\n",
       "0  22.0        S   7.2500      0       3    male      1\n",
       "1  38.0        C  71.2833      0       1  female      1"
      ]
     },
     "execution_count": 1475,
     "metadata": {},
     "output_type": "execute_result"
    }
   ],
   "source": [
    "train_test = pd.concat([train, test])\n",
    "train_test = train_test.drop(['PassengerId', 'Survived', 'Name', 'Cabin', 'Ticket'], axis = 1)\n",
    "print 'shape: '\n",
    "print train_test.shape, train.shape, test.shape\n",
    "print '~~~~~~~~~~~~~'\n",
    "print 'type'\n",
    "print train_test.dtypes\n",
    "print '~~~~~~~~~~~~~'\n",
    "print 'No. of Nans'\n",
    "print train_test.isnull().sum()\n",
    "print '~~~~~~~~~~~~~'\n",
    "train_test.head(2)"
   ]
  },
  {
   "cell_type": "code",
   "execution_count": 1476,
   "metadata": {
    "collapsed": false
   },
   "outputs": [
    {
     "name": "stdout",
     "output_type": "stream",
     "text": [
      "fill NaNs with mean or mode for object type\n",
      "No. of Nans\n",
      "Age         0\n",
      "Embarked    0\n",
      "Fare        0\n",
      "Parch       0\n",
      "Pclass      0\n",
      "Sex         0\n",
      "SibSp       0\n",
      "dtype: int64\n"
     ]
    },
    {
     "data": {
      "text/html": [
       "<div>\n",
       "<style>\n",
       "    .dataframe thead tr:only-child th {\n",
       "        text-align: right;\n",
       "    }\n",
       "\n",
       "    .dataframe thead th {\n",
       "        text-align: left;\n",
       "    }\n",
       "\n",
       "    .dataframe tbody tr th {\n",
       "        vertical-align: top;\n",
       "    }\n",
       "</style>\n",
       "<table border=\"1\" class=\"dataframe\">\n",
       "  <thead>\n",
       "    <tr style=\"text-align: right;\">\n",
       "      <th></th>\n",
       "      <th>Age</th>\n",
       "      <th>Embarked</th>\n",
       "      <th>Fare</th>\n",
       "      <th>Parch</th>\n",
       "      <th>Pclass</th>\n",
       "      <th>Sex</th>\n",
       "      <th>SibSp</th>\n",
       "    </tr>\n",
       "  </thead>\n",
       "  <tbody>\n",
       "    <tr>\n",
       "      <th>0</th>\n",
       "      <td>22.0</td>\n",
       "      <td>S</td>\n",
       "      <td>7.2500</td>\n",
       "      <td>0</td>\n",
       "      <td>3</td>\n",
       "      <td>male</td>\n",
       "      <td>1</td>\n",
       "    </tr>\n",
       "    <tr>\n",
       "      <th>1</th>\n",
       "      <td>38.0</td>\n",
       "      <td>C</td>\n",
       "      <td>71.2833</td>\n",
       "      <td>0</td>\n",
       "      <td>1</td>\n",
       "      <td>female</td>\n",
       "      <td>1</td>\n",
       "    </tr>\n",
       "  </tbody>\n",
       "</table>\n",
       "</div>"
      ],
      "text/plain": [
       "    Age Embarked     Fare  Parch  Pclass     Sex  SibSp\n",
       "0  22.0        S   7.2500      0       3    male      1\n",
       "1  38.0        C  71.2833      0       1  female      1"
      ]
     },
     "execution_count": 1476,
     "metadata": {},
     "output_type": "execute_result"
    }
   ],
   "source": [
    "print 'fill NaNs with mean or mode for object type'\n",
    "train['Age'].fillna((train['Age'].mean()), inplace=True)\n",
    "train['Fare'].fillna((train['Fare'].mean()), inplace=True)\n",
    "train['Embarked'].fillna((train.Embarked.value_counts()[0]), inplace=True)\n",
    "test['Age'].fillna((test['Age'].mean()), inplace=True)\n",
    "test['Fare'].fillna((test['Fare'].mean()), inplace=True)\n",
    "test['Embarked'].fillna((test.Embarked.value_counts()[0]), inplace=True)\n",
    "train_test = pd.concat([train, test])\n",
    "train_test = train_test.drop(['PassengerId', 'Survived', 'Name', 'Cabin', 'Ticket'], axis = 1)\n",
    "\n",
    "print 'No. of Nans'\n",
    "print train_test.isnull().sum()\n",
    "train_test.head(2)"
   ]
  },
  {
   "cell_type": "code",
   "execution_count": 1477,
   "metadata": {
    "collapsed": false,
    "scrolled": false
   },
   "outputs": [
    {
     "name": "stdout",
     "output_type": "stream",
     "text": [
      "process object types: [\"Embarked\", \"Sex\"]\n",
      "Age         float64\n",
      "Embarked      int64\n",
      "Fare        float64\n",
      "Parch         int64\n",
      "Pclass        int64\n",
      "SibSp         int64\n",
      "female        uint8\n",
      "male          uint8\n",
      "dtype: object\n"
     ]
    },
    {
     "data": {
      "text/html": [
       "<div>\n",
       "<style>\n",
       "    .dataframe thead tr:only-child th {\n",
       "        text-align: right;\n",
       "    }\n",
       "\n",
       "    .dataframe thead th {\n",
       "        text-align: left;\n",
       "    }\n",
       "\n",
       "    .dataframe tbody tr th {\n",
       "        vertical-align: top;\n",
       "    }\n",
       "</style>\n",
       "<table border=\"1\" class=\"dataframe\">\n",
       "  <thead>\n",
       "    <tr style=\"text-align: right;\">\n",
       "      <th></th>\n",
       "      <th>Age</th>\n",
       "      <th>Embarked</th>\n",
       "      <th>Fare</th>\n",
       "      <th>Parch</th>\n",
       "      <th>Pclass</th>\n",
       "      <th>SibSp</th>\n",
       "      <th>female</th>\n",
       "      <th>male</th>\n",
       "    </tr>\n",
       "  </thead>\n",
       "  <tbody>\n",
       "    <tr>\n",
       "      <th>0</th>\n",
       "      <td>22.0</td>\n",
       "      <td>0</td>\n",
       "      <td>7.2500</td>\n",
       "      <td>0</td>\n",
       "      <td>3</td>\n",
       "      <td>1</td>\n",
       "      <td>0</td>\n",
       "      <td>1</td>\n",
       "    </tr>\n",
       "    <tr>\n",
       "      <th>1</th>\n",
       "      <td>38.0</td>\n",
       "      <td>1</td>\n",
       "      <td>71.2833</td>\n",
       "      <td>0</td>\n",
       "      <td>1</td>\n",
       "      <td>1</td>\n",
       "      <td>1</td>\n",
       "      <td>0</td>\n",
       "    </tr>\n",
       "    <tr>\n",
       "      <th>2</th>\n",
       "      <td>26.0</td>\n",
       "      <td>0</td>\n",
       "      <td>7.9250</td>\n",
       "      <td>0</td>\n",
       "      <td>3</td>\n",
       "      <td>0</td>\n",
       "      <td>1</td>\n",
       "      <td>0</td>\n",
       "    </tr>\n",
       "    <tr>\n",
       "      <th>3</th>\n",
       "      <td>35.0</td>\n",
       "      <td>0</td>\n",
       "      <td>53.1000</td>\n",
       "      <td>0</td>\n",
       "      <td>1</td>\n",
       "      <td>1</td>\n",
       "      <td>1</td>\n",
       "      <td>0</td>\n",
       "    </tr>\n",
       "    <tr>\n",
       "      <th>4</th>\n",
       "      <td>35.0</td>\n",
       "      <td>0</td>\n",
       "      <td>8.0500</td>\n",
       "      <td>0</td>\n",
       "      <td>3</td>\n",
       "      <td>0</td>\n",
       "      <td>0</td>\n",
       "      <td>1</td>\n",
       "    </tr>\n",
       "  </tbody>\n",
       "</table>\n",
       "</div>"
      ],
      "text/plain": [
       "    Age  Embarked     Fare  Parch  Pclass  SibSp  female  male\n",
       "0  22.0         0   7.2500      0       3      1       0     1\n",
       "1  38.0         1  71.2833      0       1      1       1     0\n",
       "2  26.0         0   7.9250      0       3      0       1     0\n",
       "3  35.0         0  53.1000      0       1      1       1     0\n",
       "4  35.0         0   8.0500      0       3      0       0     1"
      ]
     },
     "execution_count": 1477,
     "metadata": {},
     "output_type": "execute_result"
    }
   ],
   "source": [
    "print 'process object types: [\"Embarked\", \"Sex\"]'\n",
    "train_test['Embarked'] = train_test['Embarked'].factorize()[0]\n",
    "train_test = pd.concat([train_test, pd.get_dummies(train_test.Sex)], axis = 1)\n",
    "train_test = train_test.drop(['Sex'], axis = 1)\n",
    "print train_test.dtypes\n",
    "train_test.head()"
   ]
  },
  {
   "cell_type": "code",
   "execution_count": 1478,
   "metadata": {
    "collapsed": false
   },
   "outputs": [
    {
     "data": {
      "text/html": [
       "<div>\n",
       "<style>\n",
       "    .dataframe thead tr:only-child th {\n",
       "        text-align: right;\n",
       "    }\n",
       "\n",
       "    .dataframe thead th {\n",
       "        text-align: left;\n",
       "    }\n",
       "\n",
       "    .dataframe tbody tr th {\n",
       "        vertical-align: top;\n",
       "    }\n",
       "</style>\n",
       "<table border=\"1\" class=\"dataframe\">\n",
       "  <thead>\n",
       "    <tr style=\"text-align: right;\">\n",
       "      <th></th>\n",
       "      <th>Age</th>\n",
       "      <th>Embarked</th>\n",
       "      <th>Fare</th>\n",
       "      <th>Parch</th>\n",
       "      <th>Pclass</th>\n",
       "      <th>SibSp</th>\n",
       "      <th>female</th>\n",
       "      <th>male</th>\n",
       "    </tr>\n",
       "  </thead>\n",
       "  <tbody>\n",
       "    <tr>\n",
       "      <th>count</th>\n",
       "      <td>1309.000000</td>\n",
       "      <td>1309.000000</td>\n",
       "      <td>1309.000000</td>\n",
       "      <td>1309.000000</td>\n",
       "      <td>1309.000000</td>\n",
       "      <td>1309.000000</td>\n",
       "      <td>1309.000000</td>\n",
       "      <td>1309.000000</td>\n",
       "    </tr>\n",
       "    <tr>\n",
       "      <th>mean</th>\n",
       "      <td>29.882243</td>\n",
       "      <td>0.398778</td>\n",
       "      <td>33.297261</td>\n",
       "      <td>0.385027</td>\n",
       "      <td>2.294882</td>\n",
       "      <td>0.498854</td>\n",
       "      <td>0.355997</td>\n",
       "      <td>0.644003</td>\n",
       "    </tr>\n",
       "    <tr>\n",
       "      <th>std</th>\n",
       "      <td>12.883758</td>\n",
       "      <td>0.661200</td>\n",
       "      <td>51.738919</td>\n",
       "      <td>0.865560</td>\n",
       "      <td>0.837836</td>\n",
       "      <td>1.041658</td>\n",
       "      <td>0.478997</td>\n",
       "      <td>0.478997</td>\n",
       "    </tr>\n",
       "    <tr>\n",
       "      <th>min</th>\n",
       "      <td>0.170000</td>\n",
       "      <td>0.000000</td>\n",
       "      <td>0.000000</td>\n",
       "      <td>0.000000</td>\n",
       "      <td>1.000000</td>\n",
       "      <td>0.000000</td>\n",
       "      <td>0.000000</td>\n",
       "      <td>0.000000</td>\n",
       "    </tr>\n",
       "    <tr>\n",
       "      <th>25%</th>\n",
       "      <td>22.000000</td>\n",
       "      <td>0.000000</td>\n",
       "      <td>7.895800</td>\n",
       "      <td>0.000000</td>\n",
       "      <td>2.000000</td>\n",
       "      <td>0.000000</td>\n",
       "      <td>0.000000</td>\n",
       "      <td>0.000000</td>\n",
       "    </tr>\n",
       "    <tr>\n",
       "      <th>50%</th>\n",
       "      <td>29.699118</td>\n",
       "      <td>0.000000</td>\n",
       "      <td>14.454200</td>\n",
       "      <td>0.000000</td>\n",
       "      <td>3.000000</td>\n",
       "      <td>0.000000</td>\n",
       "      <td>0.000000</td>\n",
       "      <td>1.000000</td>\n",
       "    </tr>\n",
       "    <tr>\n",
       "      <th>75%</th>\n",
       "      <td>35.000000</td>\n",
       "      <td>1.000000</td>\n",
       "      <td>31.275000</td>\n",
       "      <td>0.000000</td>\n",
       "      <td>3.000000</td>\n",
       "      <td>1.000000</td>\n",
       "      <td>1.000000</td>\n",
       "      <td>1.000000</td>\n",
       "    </tr>\n",
       "    <tr>\n",
       "      <th>max</th>\n",
       "      <td>80.000000</td>\n",
       "      <td>3.000000</td>\n",
       "      <td>512.329200</td>\n",
       "      <td>9.000000</td>\n",
       "      <td>3.000000</td>\n",
       "      <td>8.000000</td>\n",
       "      <td>1.000000</td>\n",
       "      <td>1.000000</td>\n",
       "    </tr>\n",
       "  </tbody>\n",
       "</table>\n",
       "</div>"
      ],
      "text/plain": [
       "               Age     Embarked         Fare        Parch       Pclass  \\\n",
       "count  1309.000000  1309.000000  1309.000000  1309.000000  1309.000000   \n",
       "mean     29.882243     0.398778    33.297261     0.385027     2.294882   \n",
       "std      12.883758     0.661200    51.738919     0.865560     0.837836   \n",
       "min       0.170000     0.000000     0.000000     0.000000     1.000000   \n",
       "25%      22.000000     0.000000     7.895800     0.000000     2.000000   \n",
       "50%      29.699118     0.000000    14.454200     0.000000     3.000000   \n",
       "75%      35.000000     1.000000    31.275000     0.000000     3.000000   \n",
       "max      80.000000     3.000000   512.329200     9.000000     3.000000   \n",
       "\n",
       "             SibSp       female         male  \n",
       "count  1309.000000  1309.000000  1309.000000  \n",
       "mean      0.498854     0.355997     0.644003  \n",
       "std       1.041658     0.478997     0.478997  \n",
       "min       0.000000     0.000000     0.000000  \n",
       "25%       0.000000     0.000000     0.000000  \n",
       "50%       0.000000     0.000000     1.000000  \n",
       "75%       1.000000     1.000000     1.000000  \n",
       "max       8.000000     1.000000     1.000000  "
      ]
     },
     "execution_count": 1478,
     "metadata": {},
     "output_type": "execute_result"
    }
   ],
   "source": [
    "train_test.describe()"
   ]
  },
  {
   "cell_type": "code",
   "execution_count": 1479,
   "metadata": {
    "collapsed": false
   },
   "outputs": [],
   "source": [
    "def normalize(columns):\n",
    "    for col in columns:\n",
    "        mu = train[col].mean()\n",
    "        sigma = train[col].std()\n",
    "        train_test[col] = (train[col] - train[col].mean())/train[col].std()"
   ]
  },
  {
   "cell_type": "code",
   "execution_count": 1480,
   "metadata": {
    "collapsed": false
   },
   "outputs": [
    {
     "name": "stdout",
     "output_type": "stream",
     "text": [
      "normalize columns [\"Age\", \"Fare\"]: \n"
     ]
    },
    {
     "data": {
      "text/html": [
       "<div>\n",
       "<style>\n",
       "    .dataframe thead tr:only-child th {\n",
       "        text-align: right;\n",
       "    }\n",
       "\n",
       "    .dataframe thead th {\n",
       "        text-align: left;\n",
       "    }\n",
       "\n",
       "    .dataframe tbody tr th {\n",
       "        vertical-align: top;\n",
       "    }\n",
       "</style>\n",
       "<table border=\"1\" class=\"dataframe\">\n",
       "  <thead>\n",
       "    <tr style=\"text-align: right;\">\n",
       "      <th></th>\n",
       "      <th>Age</th>\n",
       "      <th>Embarked</th>\n",
       "      <th>Fare</th>\n",
       "      <th>Parch</th>\n",
       "      <th>Pclass</th>\n",
       "      <th>SibSp</th>\n",
       "      <th>female</th>\n",
       "      <th>male</th>\n",
       "    </tr>\n",
       "  </thead>\n",
       "  <tbody>\n",
       "    <tr>\n",
       "      <th>count</th>\n",
       "      <td>1.309000e+03</td>\n",
       "      <td>1309.000000</td>\n",
       "      <td>1309.000000</td>\n",
       "      <td>1309.000000</td>\n",
       "      <td>1309.000000</td>\n",
       "      <td>1309.000000</td>\n",
       "      <td>1309.000000</td>\n",
       "      <td>1309.000000</td>\n",
       "    </tr>\n",
       "    <tr>\n",
       "      <th>mean</th>\n",
       "      <td>-2.006238e-02</td>\n",
       "      <td>0.398778</td>\n",
       "      <td>0.002039</td>\n",
       "      <td>0.385027</td>\n",
       "      <td>2.294882</td>\n",
       "      <td>0.498854</td>\n",
       "      <td>0.355997</td>\n",
       "      <td>0.644003</td>\n",
       "    </tr>\n",
       "    <tr>\n",
       "      <th>std</th>\n",
       "      <td>9.919921e-01</td>\n",
       "      <td>0.661200</td>\n",
       "      <td>0.997283</td>\n",
       "      <td>0.865560</td>\n",
       "      <td>0.837836</td>\n",
       "      <td>1.041658</td>\n",
       "      <td>0.478997</td>\n",
       "      <td>0.478997</td>\n",
       "    </tr>\n",
       "    <tr>\n",
       "      <th>min</th>\n",
       "      <td>-2.251891e+00</td>\n",
       "      <td>0.000000</td>\n",
       "      <td>-0.648058</td>\n",
       "      <td>0.000000</td>\n",
       "      <td>1.000000</td>\n",
       "      <td>0.000000</td>\n",
       "      <td>0.000000</td>\n",
       "      <td>0.000000</td>\n",
       "    </tr>\n",
       "    <tr>\n",
       "      <th>25%</th>\n",
       "      <td>-5.921480e-01</td>\n",
       "      <td>0.000000</td>\n",
       "      <td>-0.488580</td>\n",
       "      <td>0.000000</td>\n",
       "      <td>2.000000</td>\n",
       "      <td>0.000000</td>\n",
       "      <td>0.000000</td>\n",
       "      <td>0.000000</td>\n",
       "    </tr>\n",
       "    <tr>\n",
       "      <th>50%</th>\n",
       "      <td>4.371893e-15</td>\n",
       "      <td>0.000000</td>\n",
       "      <td>-0.357190</td>\n",
       "      <td>0.000000</td>\n",
       "      <td>3.000000</td>\n",
       "      <td>0.000000</td>\n",
       "      <td>0.000000</td>\n",
       "      <td>1.000000</td>\n",
       "    </tr>\n",
       "    <tr>\n",
       "      <th>75%</th>\n",
       "      <td>4.076970e-01</td>\n",
       "      <td>1.000000</td>\n",
       "      <td>-0.024233</td>\n",
       "      <td>0.000000</td>\n",
       "      <td>3.000000</td>\n",
       "      <td>1.000000</td>\n",
       "      <td>1.000000</td>\n",
       "      <td>1.000000</td>\n",
       "    </tr>\n",
       "    <tr>\n",
       "      <th>max</th>\n",
       "      <td>3.868699e+00</td>\n",
       "      <td>3.000000</td>\n",
       "      <td>9.661740</td>\n",
       "      <td>9.000000</td>\n",
       "      <td>3.000000</td>\n",
       "      <td>8.000000</td>\n",
       "      <td>1.000000</td>\n",
       "      <td>1.000000</td>\n",
       "    </tr>\n",
       "  </tbody>\n",
       "</table>\n",
       "</div>"
      ],
      "text/plain": [
       "                Age     Embarked         Fare        Parch       Pclass  \\\n",
       "count  1.309000e+03  1309.000000  1309.000000  1309.000000  1309.000000   \n",
       "mean  -2.006238e-02     0.398778     0.002039     0.385027     2.294882   \n",
       "std    9.919921e-01     0.661200     0.997283     0.865560     0.837836   \n",
       "min   -2.251891e+00     0.000000    -0.648058     0.000000     1.000000   \n",
       "25%   -5.921480e-01     0.000000    -0.488580     0.000000     2.000000   \n",
       "50%    4.371893e-15     0.000000    -0.357190     0.000000     3.000000   \n",
       "75%    4.076970e-01     1.000000    -0.024233     0.000000     3.000000   \n",
       "max    3.868699e+00     3.000000     9.661740     9.000000     3.000000   \n",
       "\n",
       "             SibSp       female         male  \n",
       "count  1309.000000  1309.000000  1309.000000  \n",
       "mean      0.498854     0.355997     0.644003  \n",
       "std       1.041658     0.478997     0.478997  \n",
       "min       0.000000     0.000000     0.000000  \n",
       "25%       0.000000     0.000000     0.000000  \n",
       "50%       0.000000     0.000000     1.000000  \n",
       "75%       1.000000     1.000000     1.000000  \n",
       "max       8.000000     1.000000     1.000000  "
      ]
     },
     "execution_count": 1480,
     "metadata": {},
     "output_type": "execute_result"
    }
   ],
   "source": [
    "print 'normalize columns [\"Age\", \"Fare\"]: '\n",
    "columns_to_normalize = ['Age', 'Fare']\n",
    "normalize(columns_to_normalize)\n",
    "train_test.describe()"
   ]
  },
  {
   "cell_type": "code",
   "execution_count": 1481,
   "metadata": {
    "collapsed": false
   },
   "outputs": [
    {
     "name": "stdout",
     "output_type": "stream",
     "text": [
      "(891, 8) (418, 8)\n"
     ]
    }
   ],
   "source": [
    "X_train = train_test[:len(train)]\n",
    "X_test = train_test[len(train):]\n",
    "print X_train.shape, X_test.shape"
   ]
  },
  {
   "cell_type": "code",
   "execution_count": 1482,
   "metadata": {
    "collapsed": false
   },
   "outputs": [],
   "source": [
    "def sigmoid(x):\n",
    "    x = np.array(x)\n",
    "    return 1/(1+np.exp(-x))"
   ]
  },
  {
   "cell_type": "code",
   "execution_count": 1483,
   "metadata": {
    "collapsed": false
   },
   "outputs": [],
   "source": [
    "def logistic_regression_model(X_train, Y_train, theta, la):\n",
    "    # return cost J and gradient of theta in grad\n",
    "    m = len(Y_train)\n",
    "    X = X_train.copy()\n",
    "    X.insert(0, 'Bias', 1)\n",
    "    X = np.array(X)\n",
    "    Y = np.array(Y_train)\n",
    "    h_theta = sigmoid(np.dot(X, theta))\n",
    "    J = -(np.dot(Y, np.log(h_theta)) + np.dot(1-Y, np.log(1-h_theta))) / m + np.dot(theta[1:], theta[1:])*la / (2*m)\n",
    "    grad = np.dot(X.transpose(), h_theta - Y) / m + theta*la / m\n",
    "    grad[0] = grad[0] - theta[0]*la / m     \n",
    "    return [J, grad]"
   ]
  },
  {
   "cell_type": "code",
   "execution_count": 1484,
   "metadata": {
    "collapsed": true
   },
   "outputs": [],
   "source": [
    "def logistic_regression_train(X_train, Y_train, theta, la, alpha, epsilon = 10.0**(-6), max_iterators = 5000):\n",
    "    # return cost J and optimal theta \n",
    "    [J, grad] = logistic_regression_model(X_train, Y_train, theta, la)\n",
    "    cost = [J]\n",
    "    for i in range(max_iterators):\n",
    "        theta = theta - alpha * grad\n",
    "        [J, grad] = logistic_regression_model(X_train, Y_train, theta, la)\n",
    "        if abs(cost[-1] - J) < epsilon:\n",
    "            break\n",
    "        cost.append(J)\n",
    "        \n",
    "    plt.plot(cost)\n",
    "    plt.title('alpha = %r, lambda = %r'% (alpha, la))\n",
    "    plt.xlabel('No. of iterations')\n",
    "    plt.ylabel('Cost function J')\n",
    "    plt.show()\n",
    "    \n",
    "    return [J, theta]"
   ]
  },
  {
   "cell_type": "code",
   "execution_count": 1485,
   "metadata": {
    "collapsed": false
   },
   "outputs": [
    {
     "name": "stdout",
     "output_type": "stream",
     "text": [
      "(891, 8) (891,)\n",
      "(623, 8) (623,)\n",
      "(268, 8) (268,)\n"
     ]
    }
   ],
   "source": [
    "print X_train.shape, Y_train.shape\n",
    "X_train, X_cv, Y_train, Y_cv = sklearn.model_selection.train_test_split(X_train, Y_train, test_size=0.3)\n",
    "print X_train.shape, Y_train.shape\n",
    "print X_cv.shape, Y_cv.shape"
   ]
  },
  {
   "cell_type": "code",
   "execution_count": null,
   "metadata": {
    "collapsed": false
   },
   "outputs": [],
   "source": [
    "def logistic_regression_cross_validation(X_train, X_cv, Y_train, Y_cv, alphas, lambdas):\n",
    "    init_theta = np.zeros(X_train.shape[1] + 1)\n",
    "    J_train = len(lambdas)*[0]\n",
    "    J_cv = len(lambdas)*[0]\n",
    "    thetas = []\n",
    "    for i in range(len(lambdas)):\n",
    "        [J, theta] = logistic_regression_train(X_train, Y_train, init_theta, lambdas[i], alpha)\n",
    "        [J_train[i], grad_train] = logistic_regression_model(X_train, Y_train, theta, 0)\n",
    "        [J_cv[i], grad_cv] = logistic_regression_model(X_cv, Y_cv, theta, 0)\n",
    "        thetas.append(theta)\n",
    "    idx = J_cv.index(min(J_cv))\n",
    "    lambda_best = lambdas[idx]\n",
    "    theta_best = thetas[idx]\n",
    "    \n",
    "    plot_train, = plt.plot(lambdas, J_train, label='J_train')\n",
    "    plot_cv, = plt.plot(lambdas, J_cv, label='J_cv')\n",
    "    plt.title('Cross Validation with alpha')\n",
    "    plt.xlabel('lambda')\n",
    "    plt.ylabel('Cost function J')\n",
    "    plt.legend([plot_train, plot_cv], [\"J_train\", \"J_cv\"])\n",
    "    plt.show()\n",
    "    \n",
    "    return [lambda_best, theta_best]"
   ]
  },
  {
   "cell_type": "code",
   "execution_count": null,
   "metadata": {
    "collapsed": false
   },
   "outputs": [
    {
     "name": "stdout",
     "output_type": "stream",
     "text": [
      "look for best alpha:\n"
     ]
    }
   ],
   "source": [
    "print 'look for best alpha:'\n",
    "alphas = [0.01*2**i for i in range(8)]\n",
    "lambdas = [0,0.001, 0.003, 0.01, 0.03, 0.1, 0.2, 0.4, 0.6, 0.8, 1, 2, 3, 4, 5]\n",
    "lambdas_best = []\n",
    "thetas_best = []\n",
    "for alpha in alphas:\n",
    "    [lambda_best, theta_best] =logistic_regression_cross_validation(X_train, X_cv, Y_train, Y_cv, alpha, lambdas)\n",
    "    lambdas_best.append(lambda_best)\n",
    "    thetas_best.append(theta_best)\n",
    "    print 'best alpha = %r, lambda = %r' % (alpha, lambda_best)"
   ]
  },
  {
   "cell_type": "code",
   "execution_count": null,
   "metadata": {
    "collapsed": false
   },
   "outputs": [],
   "source": [
    "def logistic_regression_predict(theta, X_test):\n",
    "    X = X_test.copy()\n",
    "    X.insert(0, 'Bias', 1)\n",
    "    X = np.array(X)\n",
    "    predict = sigmoid(np.dot(X, theta))\n",
    "    return predict"
   ]
  },
  {
   "cell_type": "code",
   "execution_count": null,
   "metadata": {
    "collapsed": false
   },
   "outputs": [],
   "source": [
    "print 'predict result:'\n",
    "predict = logistic_regression_predict(theta_best, X_test)\n",
    "y_predict = [1 if p > 0.5 else 0 for p in predict]\n",
    "print len(test_id), len(y_predict)\n",
    "output = pd.DataFrame({'PassengerId': test_id, 'Survived': y_predict})\n",
    "output.to_csv('Titanic_03-22-2018_version1.csv', index=False)\n",
    "output.head()"
   ]
  }
 ],
 "metadata": {
  "kernelspec": {
   "display_name": "Python [conda root]",
   "language": "python",
   "name": "conda-root-py"
  },
  "language_info": {
   "codemirror_mode": {
    "name": "ipython",
    "version": 2
   },
   "file_extension": ".py",
   "mimetype": "text/x-python",
   "name": "python",
   "nbconvert_exporter": "python",
   "pygments_lexer": "ipython2",
   "version": "2.7.13"
  }
 },
 "nbformat": 4,
 "nbformat_minor": 2
}
